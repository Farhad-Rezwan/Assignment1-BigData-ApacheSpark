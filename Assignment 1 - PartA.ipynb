{
 "cells": [
  {
   "cell_type": "markdown",
   "metadata": {},
   "source": [
    "# Step 1: Import pyspark and initialize Spark"
   ]
  },
  {
   "cell_type": "code",
   "execution_count": 1,
   "metadata": {},
   "outputs": [],
   "source": [
    "from pyspark import SparkContext, SparkConf\n",
    "\n",
    "conf = SparkConf()\n",
    "conf.set(\"spark.app.name\", \"FIT5202 Assignment 1 Part A\")\n",
    "conf.set(\"spark.master\", \"local[*]\")\n",
    "\n",
    "sc = SparkContext.getOrCreate(conf=conf)\n",
    "\n",
    "if (sc is None):\n",
    "    sc = SparkContext(conf=conf)\n"
   ]
  },
  {
   "cell_type": "markdown",
   "metadata": {},
   "source": [
    "# Step 2: Create Resilient Distribute Datasets (RDDs)"
   ]
  },
  {
   "cell_type": "code",
   "execution_count": 2,
   "metadata": {},
   "outputs": [
    {
     "name": "stdout",
     "output_type": "stream",
     "text": [
      "Total number of lines:\n",
      "\tAgile Processes in Software Engineering and Extreme Programming.txt: 21569 lines\n",
      "\tScrum Handbook.txt: 4617 lines\n"
     ]
    }
   ],
   "source": [
    "agileRDD = sc.textFile(\"Agile\\ Processes\\ \\ in\\ Software\\ Engineering\\ \\ and\\ Extreme\\ Programming.txt\")\n",
    "scrumRDD = sc.textFile(\"Scrum\\ Handbook.txt\")\n",
    "print(\"Total number of lines:\")\n",
    "print(\"\\tAgile Processes in Software Engineering and Extreme Programming.txt: {0} lines\".format(agileRDD.count()))\n",
    "print(\"\\tScrum Handbook.txt: {0} lines\".format(scrumRDD.count()))"
   ]
  },
  {
   "cell_type": "markdown",
   "metadata": {},
   "source": [
    "# Step 3: Cleaning/Manupulating text"
   ]
  },
  {
   "cell_type": "code",
   "execution_count": 3,
   "metadata": {},
   "outputs": [
    {
     "name": "stdout",
     "output_type": "stream",
     "text": [
      "Book 1 cleaned data: ['lnbip', '', '', 'i helen sharp', '', 'tracy hall eds', '', 'agile processes', 'in software engineering', 'and extreme programming', '', 'th international conference xp', 'edinburgh uk may', 'proceedings', '', '', 'springer open', '', '', '', '', '', '', '', 'lecture notes', '', 'in business information processing', '', '', 'series editors', '', 'wil van der aalst', '', 'eindhoven technical university eindhoven the netherlands', 'john mylopoulos', '', 'university of trento povo italy', 'michael rosemann', '', 'queensland university of technology brisbane qld australia']\n"
     ]
    }
   ],
   "source": [
    "import re\n",
    "agileCleanedRDD = agileRDD.map(lambda x: re.sub(\"[^a-zA-Z ]+\", \"\", x.lower()).strip()) #did not deleted the empty line as not required for the task\n",
    "print(\"Book 1 cleaned data:\", agileCleanedRDD.take(40))"
   ]
  },
  {
   "cell_type": "code",
   "execution_count": 5,
   "metadata": {},
   "outputs": [
    {
     "name": "stdout",
     "output_type": "stream",
     "text": [
      "Book 2 cleaned data: ['jeff sutherlands', '', 'scrum handbook', '', '', '', '', 'everything', 'you need', 'to know', 'to start', '', 'a scrum project', 'in your', 'organization', '', 'scrum', '', 'training', '', 'institute', '', 'm w press', '', '', '', 'this book is dedicated to nobel laureate muhammad yunus and the', 'grameen bank for originating microenterprise development and the', 'accion international presidents advisory board responsible for much of', 'microenterprise development in the western hemisphere', '', 'the strategy for bootstrapping the poor out of poverty has been', 'a model for freeing hundreds of thousands of software developers from', 'developer abuse caused by poor management practices', '', 'thanks to the reviewers of the text who include among many others', '', 'tom poppendieck', '', 'hen rick kniberg']\n"
     ]
    }
   ],
   "source": [
    "scrumCleanedRDD = scrumRDD.map(lambda x: re.sub(\"[^a-zA-Z ]+\", \"\", x.lower()).strip())\n",
    "print(\"Book 2 cleaned data:\", scrumCleanedRDD.take(40))"
   ]
  },
  {
   "cell_type": "markdown",
   "metadata": {},
   "source": [
    "# Step 4: Transforming the Data/Counting the words"
   ]
  },
  {
   "cell_type": "code",
   "execution_count": 6,
   "metadata": {},
   "outputs": [
    {
     "name": "stdout",
     "output_type": "stream",
     "text": [
      "Book1 Transformed data and count: [('the', 8145), ('and', 3965), ('of', 3944), ('to', 3714), ('in', 3076), ('a', 2701), ('is', 1539), ('that', 1355), ('for', 1194), ('as', 1028), ('on', 1015), ('we', 975), ('with', 969), ('software', 922), ('this', 915), ('are', 784), ('agile', 748), ('it', 741), ('development', 737), ('was', 711)]\n"
     ]
    }
   ],
   "source": [
    "agileWordRDD = agileCleanedRDD.flatMap(lambda x: x.split(' ')).filter(lambda x: x != '')\n",
    "agileResult = agileWordRDD.map(lambda x: (x, 1)).reduceByKey(lambda x,y: x + y)\n",
    "agileSortedResult = agileResult.sortBy(lambda x: x[1], ascending=False)\n",
    "print(\"Book1 Transformed data and count:\", agileSortedResult.take(20))"
   ]
  },
  {
   "cell_type": "code",
   "execution_count": 7,
   "metadata": {},
   "outputs": [
    {
     "name": "stdout",
     "output_type": "stream",
     "text": [
      "Book2 Transformed data and count: [('the', 1238), ('of', 537), ('and', 534), ('to', 477), ('a', 451), ('scrum', 395), ('in', 360), ('is', 348), ('team', 260), ('product', 232), ('for', 195), ('that', 181), ('it', 165), ('on', 149), ('sprint', 146), ('this', 142), ('with', 132), ('as', 124), ('are', 119), ('by', 118)]\n"
     ]
    }
   ],
   "source": [
    "scrumWordRDD = scrumCleanedRDD.flatMap(lambda x: x.split(' ')).filter(lambda x: x != '')\n",
    "scrumResult = scrumWordRDD.map(lambda x: (x, 1)).reduceByKey(lambda x,y: x + y)\n",
    "scrumSortedResult = scrumResult.sortBy(lambda x: x[1], ascending=False)\n",
    "print(\"Book2 Transformed data and count:\", scrumSortedResult.take(20))"
   ]
  },
  {
   "cell_type": "markdown",
   "metadata": {},
   "source": [
    "# # Step 5: Removing Stop Words"
   ]
  },
  {
   "cell_type": "code",
   "execution_count": 8,
   "metadata": {},
   "outputs": [
    {
     "name": "stderr",
     "output_type": "stream",
     "text": [
      "[nltk_data] Downloading package stopwords to\n",
      "[nltk_data]     /home/student/nltk_data...\n",
      "[nltk_data]   Package stopwords is already up-to-date!\n"
     ]
    }
   ],
   "source": [
    "# !pip install nltk\n",
    "import nltk\n",
    "nltk.download('stopwords')\n",
    "from nltk.corpus import stopwords\n",
    "listOfStopwords = stopwords.words('english')"
   ]
  },
  {
   "cell_type": "code",
   "execution_count": 11,
   "metadata": {},
   "outputs": [],
   "source": [
    "agileNoStopRDD = agileSortedResult.filter(lambda x: x[0] not in stopwords.words('english'))\n",
    "# agileNoStopRDD.take(20)"
   ]
  },
  {
   "cell_type": "code",
   "execution_count": 12,
   "metadata": {},
   "outputs": [],
   "source": [
    "scrumNoStopRDD = scrumSortedResult.filter(lambda x: x[0] not in listOfStopwords)\n",
    "# scrumNoStopRDD.take(20)"
   ]
  },
  {
   "cell_type": "code",
   "execution_count": 13,
   "metadata": {
    "scrolled": true
   },
   "outputs": [
    {
     "name": "stdout",
     "output_type": "stream",
     "text": [
      "Number of unique word in each rdd:\n",
      "\tagileUniqueRDD: 9611 words\n",
      "\tscrumUniqueRDD: 2936 words\n"
     ]
    }
   ],
   "source": [
    "agileUniqueRDD = agileNoStopRDD.distinct()\n",
    "scrumUniqueRDD = scrumNoStopRDD.distinct()\n",
    "print(\"Number of unique word in each rdd:\")\n",
    "print(\"\\tagileUniqueRDD: {0} words\".format(agileUniqueRDD.count()))\n",
    "print(\"\\tscrumUniqueRDD: {0} words\".format(scrumUniqueRDD.count()))"
   ]
  },
  {
   "cell_type": "markdown",
   "metadata": {},
   "source": [
    "# Step 06: Find the averae occurrence of a word"
   ]
  },
  {
   "cell_type": "code",
   "execution_count": 20,
   "metadata": {},
   "outputs": [
    {
     "name": "stdout",
     "output_type": "stream",
     "text": [
      "Book 1 Average Occurance: 8.23 times\n",
      "Book 2 Average Occurance: 3.68 times\n"
     ]
    }
   ],
   "source": [
    "agileTotWords = agileUniqueRDD.map(lambda x: x[1]).sum()\n",
    "AverageOccuranceAgile = round(agileTotWords/agileUniqueRDD.count(),2)\n",
    "print(\"Book 1 Average Occurance: {0} times\".format(AverageOccuranceAgile))\n",
    "\n",
    "scrumTotWords = scrumUniqueRDD.map(lambda x: x[1]).sum()\n",
    "AverageOccuranceScrum = round(scrumTotWords/scrumUniqueRDD.count(),2)\n",
    "print(\"Book 2 Average Occurance: {0} times\".format(AverageOccuranceScrum))"
   ]
  },
  {
   "cell_type": "markdown",
   "metadata": {},
   "source": [
    "# Step 07: Exploratory data analysis"
   ]
  },
  {
   "cell_type": "code",
   "execution_count": 21,
   "metadata": {
    "scrolled": true
   },
   "outputs": [],
   "source": [
    "# !pip install matplotlib\n",
    "%matplotlib inline\n",
    "import matplotlib.pyplot as plt\n",
    "import numpy as np"
   ]
  },
  {
   "cell_type": "markdown",
   "metadata": {},
   "source": [
    "## Analysing the distribution of words"
   ]
  },
  {
   "cell_type": "code",
   "execution_count": 23,
   "metadata": {},
   "outputs": [
    {
     "data": {
      "image/png": "[encoded data removed]",
      "text/plain": [
       "<Figure size 432x288 with 1 Axes>"
      ]
     },
     "metadata": {
      "needs_background": "light"
     },
     "output_type": "display_data"
    }
   ],
   "source": [
    "\n",
    "# preparing data\n",
    "# agile\n",
    "agileCount = agileNoStopRDD.map(lambda x: x[1]).collect()\n",
    "agileWord = agileNoStopRDD.map(lambda x: x[0]).collect()\n",
    "# scrum\n",
    "scrumCount = scrumNoStopRDD.map(lambda x: x[1]).collect()\n",
    "scrumWord = scrumNoStopRDD.map(lambda x: x[0]).collect()\n",
    "\n",
    "\n",
    "agileRanks = np.arange(0, len(agileWord))\n",
    "minm = min(agileRanks)\n",
    "maxm = max(agileRanks)\n",
    "\n",
    "scrumRanks = np.arange(0, len(scrumWord))\n",
    "minm1 = min(scrumRanks)\n",
    "max1 = max(scrumRanks)\n",
    "\n",
    "\n",
    "\n",
    "# agileWord[]\n",
    "\n",
    "b1 = plt.loglog(agileRanks, agileCount, basex=10)\n",
    "# plt.hist(agileRanks, bins = 10, range = (minm, maxm))\n",
    "\n",
    "b2 = plt.loglog(scrumRanks, scrumCount, basex=10)\n",
    "plt.suptitle('Distribution of words Book1 and Book2')\n",
    "plt.legend((b1[0], b2[0]), ('Book 1- Agile','Book 2- Scrum'))\n",
    "plt.xlabel('Word')\n",
    "plt.ylabel('Count of that word')\n",
    "plt.show()"
   ]
  },
  {
   "cell_type": "markdown",
   "metadata": {},
   "source": [
    "## Explanation: \n",
    "The line chart depicts the Agile and Scrum book's word distribution in log base 10 scale. Both of these book have similar word frequency and word distribution."
   ]
  },
  {
   "cell_type": "code",
   "execution_count": 26,
   "metadata": {},
   "outputs": [
    {
     "data": {
      "image/png": "[encoded data removed]",
      "text/plain": [
       "<Figure size 720x360 with 2 Axes>"
      ]
     },
     "metadata": {
      "needs_background": "light"
     },
     "output_type": "display_data"
    }
   ],
   "source": [
    "# Comparing Top 15 Words of Each Book\n",
    "# loading data\n",
    "agileUniqueRDD2 = agileUniqueRDD.map(lambda x: (x[0], np.log10(x[1])))\n",
    "scrumUniqueRDD2 = scrumUniqueRDD.map(lambda x: (x[0], np.log10(x[1])))\n",
    "x = agileUniqueRDD2.map(lambda x: x[0]).take(15)\n",
    "y = agileUniqueRDD2.map(lambda x: x[1]).take(15)\n",
    "u = scrumUniqueRDD2.map(lambda x: x[0]).take(15)\n",
    "v = scrumUniqueRDD2.map(lambda x: x[1]).take(15)\n",
    "f, (ax1, ax2) = plt.subplots(1,2,figsize=(10,5), tight_layout=True, sharey=True)\n",
    "\n",
    "# plot\n",
    "ax1.bar(x, y)\n",
    "ax1.set_xticklabels(x, rotation='vertical')\n",
    "ax1.set_ylabel('Word Count in log 10 scale')\n",
    "ax1.set_title('Book 1')\n",
    "ax2.bar(u,v)\n",
    "ax2.set_xticklabels(u, rotation='vertical')\n",
    "ax2.set_title('Book 2')\n",
    "plt.show()"
   ]
  },
  {
   "cell_type": "markdown",
   "metadata": {},
   "source": [
    "## Explanation: \n",
    "The bar graphs portray the picture of top 15 most common word for the Agile and Scrum book. These graphs show the commonality of the books. Among top 15 most frequent words these books have 5 words common. "
   ]
  }
 ],
 "metadata": {
  "kernelspec": {
   "display_name": "Python 3",
   "language": "python",
   "name": "python3"
  },
  "language_info": {
   "codemirror_mode": {
    "name": "ipython",
    "version": 3
   },
   "file_extension": ".py",
   "mimetype": "text/x-python",
   "name": "python",
   "nbconvert_exporter": "python",
   "pygments_lexer": "ipython3",
   "version": "3.6.8"
  }
 },
 "nbformat": 4,
 "nbformat_minor": 2
}
