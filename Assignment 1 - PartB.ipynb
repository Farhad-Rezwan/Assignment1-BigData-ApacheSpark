{
 "cells": [
  {
   "cell_type": "markdown",
   "metadata": {},
   "source": [
    "# Part B: Analysig CSV Data"
   ]
  },
  {
   "cell_type": "markdown",
   "metadata": {},
   "source": [
    "# Step 01: Import pyspark and initialize Spark"
   ]
  },
  {
   "cell_type": "code",
   "execution_count": 1,
   "metadata": {},
   "outputs": [],
   "source": [
    "import os\n",
    "os.environ['PYSPARK_SUBMIT_ARGS'] = '--packages org.mongodb.spark:mongo-spark-connector_2.11:2.4.0 pyspark-shell'\n",
    "from pyspark import SparkContext, SparkConf\n",
    "from pyspark.sql import SparkSession\n",
    "\n",
    "conf = SparkConf()\n",
    "conf.set(\"spark.app.name\", \"FIT5202 Assignment 1 Part B\")\n",
    "conf.set(\"spark.master\", \"local[*]\")\n",
    "\n",
    "sc = SparkContext.getOrCreate(conf=conf)\n",
    "\n",
    "if (sc is None):\n",
    "    sc = SparkContext(conf=conf)\n",
    "spark = SparkSession(sparkContext=sc)\\\n",
    "        .builder\\\n",
    "        .appName(\"MongoDB and Apache Spark\")\\\n",
    "        .config(\"spark.jars.packages\", \"org.mongodb.spark:mongo-spark-connector_2.11:2.4.0\")\\\n",
    "        .config(\"spark.mongodb.input.uri\", \"mongodb://127.0.0.1/fit5202_db.wk04_coll\")\\\n",
    "        .config(\"spark.mongodb.output.uri\", \"mongodb://127.0.0.1/fit5202_db.wk04_coll\")\\\n",
    "        .getOrCreate()"
   ]
  },
  {
   "cell_type": "markdown",
   "metadata": {},
   "source": [
    "# Step 02: Create Dataframe"
   ]
  },
  {
   "cell_type": "code",
   "execution_count": 2,
   "metadata": {},
   "outputs": [
    {
     "name": "stdout",
     "output_type": "stream",
     "text": [
      "Number of record in data frame is: 727408 records\n"
     ]
    }
   ],
   "source": [
    "crime = spark.read.csv('Crime_Statistics_SA_2010_present.csv', inferSchema=True, header = True)\n",
    "print(\"Number of record in data frame is:\", crime.count(), \"records\")"
   ]
  },
  {
   "cell_type": "markdown",
   "metadata": {},
   "source": [
    "# Step 03: Write to Database"
   ]
  },
  {
   "cell_type": "code",
   "execution_count": 3,
   "metadata": {},
   "outputs": [],
   "source": [
    "# dropping the null values for error reduction\n",
    "crime_df = crime.na.drop()\n",
    "# write to database\n",
    "crime_df.write.format(\"com.mongodb.spark.sql.DefaultSource\").mode(\"overwrite\").save()"
   ]
  },
  {
   "cell_type": "markdown",
   "metadata": {},
   "source": [
    "# Step 04: Read from Database"
   ]
  },
  {
   "cell_type": "code",
   "execution_count": 4,
   "metadata": {},
   "outputs": [],
   "source": [
    "crime_df = spark.read.format(\"com.mongodb.spark.sql.DefaultSource\").load()"
   ]
  },
  {
   "cell_type": "code",
   "execution_count": 5,
   "metadata": {},
   "outputs": [
    {
     "name": "stdout",
     "output_type": "stream",
     "text": [
      "root\n",
      " |-- Offence Count: integer (nullable = true)\n",
      " |-- Offence Level 1 Description: string (nullable = true)\n",
      " |-- Offence Level 2 Description: string (nullable = true)\n",
      " |-- Offence Level 3 Description: string (nullable = true)\n",
      " |-- Postcode - Incident: string (nullable = true)\n",
      " |-- Reported Date: string (nullable = true)\n",
      " |-- Suburb - Incident: string (nullable = true)\n",
      " |-- _id: struct (nullable = true)\n",
      " |    |-- oid: string (nullable = true)\n",
      "\n"
     ]
    }
   ],
   "source": [
    "# Schema of Data Frame\n",
    "crime_df.printSchema()"
   ]
  },
  {
   "cell_type": "markdown",
   "metadata": {},
   "source": [
    "# Step 05: Calculate the statistics of numeric and string columns"
   ]
  },
  {
   "cell_type": "code",
   "execution_count": 6,
   "metadata": {},
   "outputs": [
    {
     "name": "stdout",
     "output_type": "stream",
     "text": [
      "+-------+------------------+-------------+\n",
      "|summary|     Offence Count|Reported Date|\n",
      "+-------+------------------+-------------+\n",
      "|  count|            726921|       726921|\n",
      "|   mean| 1.171599114621809|         null|\n",
      "| stddev|0.5788485264995532|         null|\n",
      "|    min|                 1|    1/01/2011|\n",
      "|    max|                28|    9/12/2018|\n",
      "+-------+------------------+-------------+\n",
      "\n"
     ]
    }
   ],
   "source": [
    "crime_df.describe([\"Offence Count\", \"Reported Date\"]).show()"
   ]
  },
  {
   "cell_type": "markdown",
   "metadata": {},
   "source": [
    "The maximum and minimum reported date is not correct because the data types of the Reported Date is string. The dates are sorted on the basis of ASCII values of the string."
   ]
  },
  {
   "cell_type": "markdown",
   "metadata": {},
   "source": [
    "# Step 06: Change the data type of a column"
   ]
  },
  {
   "cell_type": "code",
   "execution_count": 7,
   "metadata": {},
   "outputs": [],
   "source": [
    "from pyspark.sql.functions import udf\n",
    "from datetime import datetime\n",
    "from pyspark.sql.types import DateType\n",
    "\n",
    "def string_to_date(random_date):\n",
    "    time_obj = datetime.strptime(random_date, '%d/%m/%Y').date()\n",
    "    return time_obj\n",
    "\n",
    "udfString_to_date = udf(string_to_date, DateType())\n",
    "df = crime_df.withColumn(\"Reported Date_\", udfString_to_date(crime_df['Reported Date']))\n",
    "df2 = df.drop(\"Reported Date\")\n",
    "crime_df = df2 #asigining the chanbged column value to the main dataframe\n",
    "# crime_df.printSchema()"
   ]
  },
  {
   "cell_type": "markdown",
   "metadata": {},
   "source": [
    "# Step 07: Preliminary data analysis"
   ]
  },
  {
   "cell_type": "code",
   "execution_count": 10,
   "metadata": {},
   "outputs": [
    {
     "name": "stdout",
     "output_type": "stream",
     "text": [
      "Number of level two offence:  9\n"
     ]
    }
   ],
   "source": [
    "# number of level 2 offences\n",
    "crime_df.createOrReplaceTempView(\"temp\")\n",
    "temp_df = spark.sql(\"SELECT `Offence Level 2 Description` from temp WHERE `Offence Level 2 Description` != 'null'\") #removed null value as it is not a type of offence.\n",
    "print(\"Number of level two offence: \",temp_df.distinct().count())"
   ]
  },
  {
   "cell_type": "code",
   "execution_count": 12,
   "metadata": {},
   "outputs": [
    {
     "name": "stdout",
     "output_type": "stream",
     "text": [
      "Number of offences against the person:  155909\n"
     ]
    }
   ],
   "source": [
    "# Number of offences against the person\n",
    "temp_df1 = spark.sql(\"SELECT `Offence Level 1 Description` from temp WHERE `Offence Level 1 Description` = 'OFFENCES AGAINST THE PERSON'\")\n",
    "print(\"Number of offences against the person: \", temp_df1.count())"
   ]
  },
  {
   "cell_type": "code",
   "execution_count": 13,
   "metadata": {},
   "outputs": [
    {
     "name": "stdout",
     "output_type": "stream",
     "text": [
      "Number of serious criminal tresspasses with more than 1 offence count:  8574\n"
     ]
    }
   ],
   "source": [
    "# Serious criminal rresspassess with more than 1 offence count\n",
    "temp_df2 = spark.sql(\"SELECT * FROM temp WHERE `Offence Level 2 Description` = 'SERIOUS CRIMINAL TRESPASS' AND `Offence Count` > 1\")\n",
    "print(\"Number of serious criminal tresspasses with more than 1 offence count: \", temp_df2.count())"
   ]
  },
  {
   "cell_type": "code",
   "execution_count": 14,
   "metadata": {},
   "outputs": [
    {
     "name": "stdout",
     "output_type": "stream",
     "text": [
      "Percentage of crimes against the property 78.55%\n"
     ]
    }
   ],
   "source": [
    "# Percentage of crimes against the property\n",
    "temp_df3 = spark.sql(\"SELECT `Offence Level 1 Description` FROM temp WHERE `Offence Level 1 Description` =  'OFFENCES AGAINST PROPERTY'\")\n",
    "df_all = spark.sql(\"SELECT * FROM temp\")\n",
    "percentage = round(((temp_df3.count()/df_all.count()) * 100), 2)\n",
    "print(\"Percentage of crimes against the property {0}%\".format(percentage))"
   ]
  },
  {
   "cell_type": "markdown",
   "metadata": {},
   "source": [
    "# Step 08: Exploratory Data Analysis"
   ]
  },
  {
   "cell_type": "code",
   "execution_count": 15,
   "metadata": {},
   "outputs": [],
   "source": [
    "from pyspark.sql.functions import year, month, dayofweek\n",
    "import matplotlib.pyplot as plt\n",
    "import numpy as np\n",
    "%matplotlib inline"
   ]
  },
  {
   "cell_type": "markdown",
   "metadata": {},
   "source": [
    "## Number of crimes by years:"
   ]
  },
  {
   "cell_type": "code",
   "execution_count": 16,
   "metadata": {},
   "outputs": [
    {
     "data": {
      "image/png": "[encoded data removed]",
      "text/plain": [
       "<Figure size 432x288 with 1 Axes>"
      ]
     },
     "metadata": {
      "needs_background": "light"
     },
     "output_type": "display_data"
    }
   ],
   "source": [
    "temp_count_y = crime_df.groupBy(year('Reported Date_').alias('year')).sum().withColumnRenamed('sum(Offence Count)','y_count').orderBy('Year').collect()\n",
    "# plot\n",
    "bar_width = 0.5\n",
    "objects = [row['year'] for row in temp_count_y]\n",
    "y_axis = [row['y_count'] for row in temp_count_y]\n",
    "y_pos = np.arange(len(objects))\n",
    "\n",
    "plt.bar(y_pos, y_axis, bar_width, align='center', color='r')\n",
    "plt.xticks(y_pos, objects, rotation='vertical')\n",
    "plt.xlabel('Year')\n",
    "plt.ylabel('Count of Offences')\n",
    "plt.title('Number of Crimes By Year - SOUTH AUSTRALIA')\n",
    "plt.show()"
   ]
  },
  {
   "cell_type": "markdown",
   "metadata": {},
   "source": [
    "Explanation: The above bar chart shows the number of crimes in South Australia for nine years from the year 2010 to 2019. This graph shows the trend that the number of crimes are decreasing in the state."
   ]
  },
  {
   "cell_type": "markdown",
   "metadata": {},
   "source": [
    "## Number of crimes by months:"
   ]
  },
  {
   "cell_type": "code",
   "execution_count": 19,
   "metadata": {},
   "outputs": [
    {
     "data": {
      "image/png": "[encoded data removed]",
      "text/plain": [
       "<Figure size 432x288 with 1 Axes>"
      ]
     },
     "metadata": {
      "needs_background": "light"
     },
     "output_type": "display_data"
    }
   ],
   "source": [
    "temp_count_m = crime_df.groupBy(month('Reported Date_').alias('month')).sum().withColumnRenamed('sum(Offence Count)','off_count').orderBy('Month').collect()\n",
    "\n",
    "\n",
    "# plot\n",
    "bar_width = 0.5\n",
    "objects = ('January', 'February', 'March', 'April', 'May', 'June', 'July', 'August', 'September', 'October', 'November', 'December')\n",
    "y_axis = [row['off_count'] for row in temp_count_m]\n",
    "y_pos = np.arange(len(objects))\n",
    "\n",
    "plt.bar(y_pos, y_axis, bar_width, align='center', color='g')\n",
    "plt.xticks(y_pos, objects, rotation='vertical')\n",
    "plt.xlabel('Month')\n",
    "plt.ylabel('Count of Offences')\n",
    "plt.title('Number of crimes during a month- SOUTH AUSTRALIA')\n",
    "plt.ylim(50000, 90000)\n",
    "plt.show()"
   ]
  },
  {
   "cell_type": "markdown",
   "metadata": {},
   "source": [
    "Explanation: The above bar chart shows the number of criminal offences in different months of South Australia."
   ]
  },
  {
   "cell_type": "code",
   "execution_count": null,
   "metadata": {},
   "outputs": [],
   "source": [
    "# most crime took place"
   ]
  },
  {
   "cell_type": "code",
   "execution_count": null,
   "metadata": {},
   "outputs": [],
   "source": [
    "# Number of serious trespasses by day and month\n",
    "\n",
    "# temp_count_m = crime_df.groupBy(month('Reported Date_').alias('month')).sum().withColumnRenamed('sum(Offence Count)','off_count').orderBy('Month').collect()\n",
    "# temp_count_d = crime_df.groupBy(dayofweek('Reported Date_').alias('dayofweek')).sum().withColumnRenamed('sum(Offence Count)','y_count').orderBy('DayOfweek').collect()\n",
    "\n",
    "\n",
    "# bar_width = 0.5\n",
    "# objects1 = ('January', 'February', 'March', 'April', 'May', 'June', 'July', 'August', 'September', 'October', 'November', 'December')\n",
    "# objects2 = ('Monday', 'Tuesday', 'Wednesday', 'Thursday', 'Friday')\n",
    "# y_axis1 = [row['off_count'] for row in temp_count_m]\n",
    "# y_axis2 = [row['y_count'] for row in temp_count_d]\n",
    "# y_pos = np.arange(len(objects))\n",
    "\n",
    "\n",
    "# f, (ax1, ax2) = plt.subplots(1, 2, figsize=(10,5), sharey=True)\n",
    "\n",
    "\n",
    "# plt.bar(y_pos, y_axis1, bar_width, align='center', color='g')\n",
    "# plt.xticks(y_pos, objects1, rotation='vertical')\n",
    "# plt.xlabel('Month')\n",
    "# plt.ylabel('Count of Offences')\n",
    "# plt.title('Number of crimes during a month- SOUTH AUSTRALIA')\n",
    "\n",
    "# plt.bar(y_pos, y_axis2, bar_width, align='center', color='g')\n",
    "# plt.xticks(y_pos, objects2, rotation='vertical')\n",
    "# plt.xlabel('Month')\n",
    "# plt.ylabel('Count of Offences')\n",
    "# plt.title('Number of crimes during a month- SOUTH AUSTRALIA')\n",
    "\n",
    "# plt.plot()"
   ]
  }
 ],
 "metadata": {
  "kernelspec": {
   "display_name": "Python 3",
   "language": "python",
   "name": "python3"
  },
  "language_info": {
   "codemirror_mode": {
    "name": "ipython",
    "version": 3
   },
   "file_extension": ".py",
   "mimetype": "text/x-python",
   "name": "python",
   "nbconvert_exporter": "python",
   "pygments_lexer": "ipython3",
   "version": "3.6.8"
  }
 },
 "nbformat": 4,
 "nbformat_minor": 2
}
